{
  "cells": [
    {
      "cell_type": "code",
      "execution_count": 3,
      "metadata": {
        "colab": {
          "base_uri": "https://localhost:8080/"
        },
        "id": "a_KW73O2e3dw",
        "outputId": "d6fb3afb-9c90-40a1-9b8a-01f896e392aa"
      },
      "outputs": [
        {
          "name": "stdout",
          "output_type": "stream",
          "text": [
            "\r0% [Working]\r            \rHit:1 https://cloud.r-project.org/bin/linux/ubuntu focal-cran40/ InRelease\n",
            "\r0% [Waiting for headers] [Connecting to security.ubuntu.com (185.125.190.39)] [\r                                                                               \rHit:2 http://archive.ubuntu.com/ubuntu focal InRelease\n",
            "\r0% [Waiting for headers] [Connecting to security.ubuntu.com (185.125.190.39)] [\r                                                                               \rHit:3 http://archive.ubuntu.com/ubuntu focal-updates InRelease\n",
            "\r0% [Waiting for headers] [Connecting to security.ubuntu.com (185.125.190.39)] [\r                                                                               \rHit:4 http://archive.ubuntu.com/ubuntu focal-backports InRelease\n",
            "\r0% [Connecting to security.ubuntu.com (185.125.190.39)] [Connecting to ppa.laun\r                                                                               \rHit:5 https://developer.download.nvidia.com/compute/cuda/repos/ubuntu2004/x86_64  InRelease\n",
            "\r                                                                               \r0% [Waiting for headers] [Waiting for headers]\r0% [Waiting for headers] [Waiting for headers]\r                                              \rHit:6 http://ppa.launchpad.net/c2d4u.team/c2d4u4.0+/ubuntu focal InRelease\n",
            "Hit:7 http://security.ubuntu.com/ubuntu focal-security InRelease\n",
            "Hit:8 http://ppa.launchpad.net/cran/libgit2/ubuntu focal InRelease\n",
            "Hit:9 http://ppa.launchpad.net/deadsnakes/ppa/ubuntu focal InRelease\n",
            "Hit:10 http://ppa.launchpad.net/graphics-drivers/ppa/ubuntu focal InRelease\n",
            "Hit:11 http://ppa.launchpad.net/ubuntugis/ppa/ubuntu focal InRelease\n",
            "Reading package lists... Done\n"
          ]
        }
      ],
      "source": [
        "\n",
        "import os\n",
        "# Find the latest version of spark 3.x  from http://www.apache.org/dist/spark/ and enter as the spark version\n",
        "# For example:\n",
        "# spark_version = 'spark-3.3.1'\n",
        "spark_version = 'spark-3.3.2'\n",
        "os.environ['SPARK_VERSION']=spark_version\n",
        "\n",
        "# Install Spark and Java\n",
        "!apt-get update\n",
        "!apt-get install openjdk-11-jdk-headless -qq > /dev/null\n",
        "!wget -q http://www.apache.org/dist/spark/$SPARK_VERSION/$SPARK_VERSION-bin-hadoop3.tgz\n",
        "!tar xf $SPARK_VERSION-bin-hadoop3.tgz\n",
        "!pip install -q findspark\n",
        "\n",
        "# Set Environment Variables\n",
        "os.environ[\"JAVA_HOME\"] = \"/usr/lib/jvm/java-11-openjdk-amd64\"\n",
        "os.environ[\"SPARK_HOME\"] = f\"/content/{spark_version}-bin-hadoop3\"\n",
        "\n",
        "# Start a SparkSession\n",
        "import findspark\n",
        "findspark.init()\n"
      ]
    },
    {
      "cell_type": "code",
      "execution_count": 4,
      "metadata": {
        "id": "2XbWNf1Te5fM"
      },
      "outputs": [],
      "source": [
        "# Import packages\n",
        "from pyspark.sql import SparkSession\n",
        "import time\n",
        "\n",
        "# Create a SparkSession\n",
        "spark = SparkSession.builder.appName(\"SparkSQL\").getOrCreate()"
      ]
    },
    {
      "cell_type": "code",
      "execution_count": 5,
      "metadata": {
        "id": "wOJqxG_RPSwp"
      },
      "outputs": [],
      "source": [
        "# 1. Read in the AWS S3 bucket into a DataFrame.\n",
        "from pyspark import SparkFiles\n",
        "url = \"https://2u-data-curriculum-team.s3.amazonaws.com/dataviz-classroom/v1.2/22-big-data/home_sales_revised.csv\"\n",
        "\n"
      ]
    },
    {
      "cell_type": "code",
      "execution_count": 7,
      "metadata": {
        "colab": {
          "base_uri": "https://localhost:8080/"
        },
        "id": "RoljcJ7WPpnm",
        "outputId": "db483cf5-7dbc-4c36-b540-c66cd310483e"
      },
      "outputs": [
        {
          "name": "stdout",
          "output_type": "stream",
          "text": [
            "+--------------------+----------+----------+------+--------+---------+-----------+--------+------+----------+----+\n",
            "|                  id|      date|date_built| price|bedrooms|bathrooms|sqft_living|sqft_lot|floors|waterfront|view|\n",
            "+--------------------+----------+----------+------+--------+---------+-----------+--------+------+----------+----+\n",
            "|f8a53099-ba1c-47d...|2022-04-08|      2016|936923|       4|        3|       3167|   11733|     2|         1|  76|\n",
            "|7530a2d8-1ae3-451...|2021-06-13|      2013|379628|       2|        2|       2235|   14384|     1|         0|  23|\n",
            "|43de979c-0bf0-4c9...|2019-04-12|      2014|417866|       2|        2|       2127|   10575|     2|         0|   0|\n",
            "|b672c137-b88c-48b...|2019-10-16|      2016|239895|       2|        2|       1631|   11149|     2|         0|   0|\n",
            "|e0726d4d-d595-407...|2022-01-08|      2017|424418|       3|        2|       2249|   13878|     2|         0|   4|\n",
            "|5aa00529-0533-46b...|2019-01-30|      2017|218712|       2|        3|       1965|   14375|     2|         0|   7|\n",
            "|131492a1-72e2-4a8...|2020-02-08|      2017|419199|       2|        3|       2062|    8876|     2|         0|   6|\n",
            "|8d54a71b-c520-44e...|2019-07-21|      2010|323956|       2|        3|       1506|   11816|     1|         0|  25|\n",
            "|e81aacfe-17fe-46b...|2020-06-16|      2016|181925|       3|        3|       2137|   11709|     2|         0|  22|\n",
            "|2ed8d509-7372-46d...|2021-08-06|      2015|258710|       3|        3|       1918|    9666|     1|         0|  25|\n",
            "|f876d86f-3c9f-42b...|2019-02-27|      2011|167864|       3|        3|       2471|   13924|     2|         0|  15|\n",
            "|0a2bd445-8508-4d8...|2021-12-30|      2014|337527|       2|        3|       1926|   12556|     1|         0|  23|\n",
            "|941bad30-eb49-4a7...|2020-05-09|      2015|229896|       3|        3|       2197|    8641|     1|         0|   3|\n",
            "|dd61eb34-6589-4c0...|2021-07-25|      2016|210247|       3|        2|       1672|   11986|     2|         0|  28|\n",
            "|f1e4cef7-d151-439...|2019-02-01|      2011|398667|       2|        3|       2331|   11356|     1|         0|   7|\n",
            "|ea620c7b-c2f7-4c6...|2021-05-31|      2011|437958|       3|        3|       2356|   11052|     1|         0|  26|\n",
            "|f233cb41-6f33-4b0...|2021-07-18|      2016|437375|       4|        3|       1704|   11721|     2|         0|  34|\n",
            "|c797ca12-52cd-4b1...|2019-06-08|      2015|288650|       2|        3|       2100|   10419|     2|         0|   7|\n",
            "|0cfe57f3-28c2-472...|2019-10-04|      2015|308313|       3|        3|       1960|    9453|     2|         0|   2|\n",
            "|4566cd2a-ac6e-435...|2019-07-15|      2016|177541|       3|        3|       2130|   10517|     2|         0|  25|\n",
            "+--------------------+----------+----------+------+--------+---------+-----------+--------+------+----------+----+\n",
            "only showing top 20 rows\n",
            "\n"
          ]
        }
      ],
      "source": [
        "# 2. Create a temporary view of the DataFrame.\n",
        "spark.sparkContext.addFile(url)\n",
        "df = spark.read.csv(SparkFiles.get('home_sales_revised.csv'), sep=',', header=True)\n",
        "\n",
        "df.show()"
      ]
    },
    {
      "cell_type": "code",
      "execution_count": null,
      "metadata": {
        "id": "9l4n1sz-hUzy"
      },
      "outputs": [],
      "source": []
    },
    {
      "cell_type": "code",
      "execution_count": 26,
      "metadata": {
        "colab": {
          "base_uri": "https://localhost:8080/"
        },
        "id": "L6fkwOeOmqvq",
        "outputId": "5354c39c-897d-486a-85e7-0b6d9eecec5d"
      },
      "outputs": [
        {
          "name": "stdout",
          "output_type": "stream",
          "text": [
            "+----+-------------+\n",
            "|year|average_price|\n",
            "+----+-------------+\n",
            "|2022|    296363.88|\n",
            "|2019|    300263.70|\n",
            "|2020|    298353.78|\n",
            "|2021|    301819.44|\n",
            "+----+-------------+\n",
            "\n"
          ]
        }
      ],
      "source": [
        "# 3. What is the average price for a four bedroom house sold in each year rounded to two decimal places?\n",
        "from pyspark.sql.functions import avg, year, round\n",
        "from pyspark.sql.types import DecimalType\n",
        "\n",
        "average_prices_bdrm = df.filter(df['bedrooms'] == 4).groupBy(year(df['date']).alias('year')).agg(avg('price').alias('average_price'))\n",
        "average_prices_bdrm = average_prices_bdrm .withColumn(\"average_price\", round(average_prices_bdrm [\"average_price\"].cast(DecimalType(10, 2)), 2))\n",
        "average_prices_bdrm.show()\n"
      ]
    },
    {
      "cell_type": "code",
      "execution_count": 25,
      "metadata": {
        "colab": {
          "base_uri": "https://localhost:8080/"
        },
        "id": "l8p_tUS8h8it",
        "outputId": "7c0ac2c1-9ccf-4233-cc2b-fd3417cc21c6"
      },
      "outputs": [
        {
          "name": "stdout",
          "output_type": "stream",
          "text": [
            "+----+-------------+\n",
            "|year|average_price|\n",
            "+----+-------------+\n",
            "|2022|    292725.69|\n",
            "|2019|    287287.82|\n",
            "|2020|    294204.16|\n",
            "|2021|    294211.46|\n",
            "+----+-------------+\n",
            "\n"
          ]
        }
      ],
      "source": [
        "# 4. What is the average price of a home for each year the home was built that have 3 bedrooms and 3 bathrooms rounded to two decimal places?\n",
        "average_prices_bdrm_bath = df.filter((df['bedrooms'] == 3) & (df['bathrooms'] == 3)).groupBy(year(df['date']).alias('year')).agg(avg('price').alias('average_price'))\n",
        "average_prices_bdrm_bath = average_prices_bdrm_bath.withColumn(\"average_price\", round(average_prices_bdrm_bath[\"average_price\"].cast(DecimalType(10, 2)), 2))\n",
        "average_prices_bdrm_bath.show()"
      ]
    },
    {
      "cell_type": "code",
      "execution_count": 28,
      "metadata": {
        "colab": {
          "base_uri": "https://localhost:8080/"
        },
        "id": "Y-Eytz64liDU",
        "outputId": "fc3d8f35-140c-4913-dcf5-db37b26b58bf"
      },
      "outputs": [
        {
          "name": "stdout",
          "output_type": "stream",
          "text": [
            "+----+-------------+\n",
            "|year|average_price|\n",
            "+----+-------------+\n",
            "|2022|    290242.99|\n",
            "|2019|    289859.14|\n",
            "|2020|    292289.09|\n",
            "|2021|    296330.96|\n",
            "+----+-------------+\n",
            "\n"
          ]
        }
      ],
      "source": [
        "# 5. What is the average price of a home for each year built that have 3 bedrooms, 3 bathrooms, with two floors,\n",
        "# and are greater than or equal to 2,000 square feet rounded to two decimal places?\n",
        "from pyspark.sql.functions import avg, year\n",
        "\n",
        "average_prices_year_bdrm_bath_floor_size = df.filter((df['bedrooms'] == 3) & (df['bathrooms'] == 3) & (df['floors'] == 2) & (df['sqft_living'] >= 2000)).groupBy(year(df['date']).alias('year')).agg(avg('price').alias('average_price'))\n",
        "average_prices_year_bdrm_bath_floor_size = average_prices_year_bdrm_bath_floor_size.withColumn(\"average_price\", round(average_prices_year_bdrm_bath_floor_size[\"average_price\"], 2))\n",
        "average_prices_year_bdrm_bath_floor_size.show()\n",
        "\n"
      ]
    },
    {
      "cell_type": "code",
      "execution_count": 35,
      "metadata": {
        "colab": {
          "base_uri": "https://localhost:8080/"
        },
        "id": "GUrfgOX1pCRd",
        "outputId": "a024a6a9-1a00-428f-91ad-c80b34365ac9"
      },
      "outputs": [
        {
          "name": "stdout",
          "output_type": "stream",
          "text": [
            "Average Price: $473796.26\n",
            "View Rating: 7\n",
            "--- 1.7674434185028076 seconds ---\n"
          ]
        }
      ],
      "source": [
        "from pyspark.sql.functions import avg\n",
        "import time\n",
        "\n",
        "# 6. What is the \"view\" rating for the average price of a home, rounded to two decimal places, where the homes are greater than\n",
        "# or equal to $350,000? Although this is a small dataset, determine the run time for this query.\n",
        "\n",
        "start_time = time.time()\n",
        "\n",
        "average_price_greater_than_350k = df.filter(df['price'] >= 350000).agg(avg('price').alias('average_price')).collect()[0][0]\n",
        "average_price_greater_than_350k = \"{:.2f}\".format(average_price_greater_than_350k)\n",
        "\n",
        "view_rating = df.filter(df['price'] >= 350000).select('view').distinct().collect()[0]['view']\n",
        "\n",
        "print(\"Average Price: $\" + str(average_price_greater_than_350k))\n",
        "print(\"View Rating: \" + view_rating)\n",
        "\n",
        "\n",
        "print(\"--- %s seconds ---\" % (time.time() - start_time))"
      ]
    },
    {
      "cell_type": "code",
      "execution_count": 36,
      "metadata": {
        "colab": {
          "base_uri": "https://localhost:8080/"
        },
        "id": "KAhk3ZD2tFy8",
        "outputId": "0e219ffa-9642-4eac-ff5c-96de0a23c9b3"
      },
      "outputs": [
        {
          "data": {
            "text/plain": [
              "DataFrame[id: string, date: string, date_built: string, price: string, bedrooms: string, bathrooms: string, sqft_living: string, sqft_lot: string, floors: string, waterfront: string, view: string]"
            ]
          },
          "execution_count": 36,
          "metadata": {},
          "output_type": "execute_result"
        }
      ],
      "source": [
        "# 7. Cache the the temporary table home_sales.\n",
        "df.createOrReplaceTempView(\"home_sales\")\n",
        "spark.table(\"home_sales\").cache()\n"
      ]
    },
    {
      "cell_type": "code",
      "execution_count": 37,
      "metadata": {
        "colab": {
          "base_uri": "https://localhost:8080/"
        },
        "id": "4opVhbvxtL-i",
        "outputId": "95e84634-6647-4229-cc25-c4024c2a1bc8"
      },
      "outputs": [
        {
          "data": {
            "text/plain": [
              "True"
            ]
          },
          "execution_count": 37,
          "metadata": {},
          "output_type": "execute_result"
        }
      ],
      "source": [
        "# 8. Check if the table is cached.\n",
        "spark.catalog.isCached('home_sales')"
      ]
    },
    {
      "cell_type": "code",
      "execution_count": 39,
      "metadata": {
        "colab": {
          "base_uri": "https://localhost:8080/"
        },
        "id": "5GnL46lwTSEk",
        "outputId": "281245b0-c70e-4be5-ab99-29d039d94453"
      },
      "outputs": [
        {
          "name": "stdout",
          "output_type": "stream",
          "text": [
            "Results with cached data:\n",
            "Row(view='7')\n",
            "Row(view='51')\n",
            "Row(view='15')\n",
            "Row(view='54')\n",
            "Row(view='11')\n",
            "Row(view='29')\n",
            "Row(view='69')\n",
            "Row(view='42')\n",
            "Row(view='87')\n",
            "Row(view='73')\n",
            "Row(view='64')\n",
            "Row(view='3')\n",
            "Row(view='30')\n",
            "Row(view='34')\n",
            "Row(view='59')\n",
            "Row(view='8')\n",
            "Row(view='28')\n",
            "Row(view='22')\n",
            "Row(view='85')\n",
            "Row(view='16')\n",
            "Row(view='35')\n",
            "Row(view='52')\n",
            "Row(view='0')\n",
            "Row(view='71')\n",
            "Row(view='98')\n",
            "Row(view='99')\n",
            "Row(view='47')\n",
            "Row(view='96')\n",
            "Row(view='43')\n",
            "Row(view='5')\n",
            "Row(view='31')\n",
            "Row(view='100')\n",
            "Row(view='18')\n",
            "Row(view='70')\n",
            "Row(view='27')\n",
            "Row(view='61')\n",
            "Row(view='75')\n",
            "Row(view='17')\n",
            "Row(view='26')\n",
            "Row(view='46')\n",
            "Row(view='78')\n",
            "Row(view='89')\n",
            "Row(view='77')\n",
            "Row(view='6')\n",
            "Row(view='90')\n",
            "Row(view='68')\n",
            "Row(view='60')\n",
            "Row(view='19')\n",
            "Row(view='23')\n",
            "Row(view='41')\n",
            "Row(view='55')\n",
            "Row(view='93')\n",
            "Row(view='95')\n",
            "Row(view='38')\n",
            "Row(view='40')\n",
            "Row(view='25')\n",
            "Row(view='44')\n",
            "Row(view='82')\n",
            "Row(view='53')\n",
            "Row(view='92')\n",
            "Row(view='86')\n",
            "Row(view='58')\n",
            "Row(view='81')\n",
            "Row(view='33')\n",
            "Row(view='48')\n",
            "Row(view='97')\n",
            "Row(view='67')\n",
            "Row(view='84')\n",
            "Row(view='79')\n",
            "Row(view='24')\n",
            "Row(view='9')\n",
            "Row(view='32')\n",
            "Row(view='88')\n",
            "Row(view='1')\n",
            "Row(view='20')\n",
            "Row(view='56')\n",
            "Row(view='36')\n",
            "Row(view='10')\n",
            "Row(view='37')\n",
            "Row(view='49')\n",
            "Row(view='63')\n",
            "Row(view='65')\n",
            "Row(view='4')\n",
            "Row(view='39')\n",
            "Row(view='62')\n",
            "Row(view='12')\n",
            "Row(view='83')\n",
            "Row(view='13')\n",
            "Row(view='21')\n",
            "Row(view='14')\n",
            "Row(view='66')\n",
            "Row(view='91')\n",
            "Row(view='94')\n",
            "Row(view='74')\n",
            "Row(view='72')\n",
            "Row(view='76')\n",
            "Row(view='2')\n",
            "Row(view='80')\n",
            "Row(view='50')\n",
            "Row(view='45')\n",
            "Row(view='57')\n",
            "\n",
            "Runtime with cached data: 1.87 seconds\n",
            "\n",
            "Results with uncached data:\n",
            "Row(view='7')\n",
            "Row(view='51')\n",
            "Row(view='15')\n",
            "Row(view='54')\n",
            "Row(view='11')\n",
            "Row(view='29')\n",
            "Row(view='69')\n",
            "Row(view='42')\n",
            "Row(view='87')\n",
            "Row(view='73')\n",
            "Row(view='64')\n",
            "Row(view='3')\n",
            "Row(view='30')\n",
            "Row(view='34')\n",
            "Row(view='59')\n",
            "Row(view='8')\n",
            "Row(view='28')\n",
            "Row(view='22')\n",
            "Row(view='85')\n",
            "Row(view='16')\n",
            "Row(view='35')\n",
            "Row(view='52')\n",
            "Row(view='0')\n",
            "Row(view='71')\n",
            "Row(view='98')\n",
            "Row(view='99')\n",
            "Row(view='47')\n",
            "Row(view='96')\n",
            "Row(view='43')\n",
            "Row(view='5')\n",
            "Row(view='31')\n",
            "Row(view='100')\n",
            "Row(view='18')\n",
            "Row(view='70')\n",
            "Row(view='27')\n",
            "Row(view='61')\n",
            "Row(view='75')\n",
            "Row(view='17')\n",
            "Row(view='26')\n",
            "Row(view='46')\n",
            "Row(view='78')\n",
            "Row(view='89')\n",
            "Row(view='77')\n",
            "Row(view='6')\n",
            "Row(view='90')\n",
            "Row(view='68')\n",
            "Row(view='60')\n",
            "Row(view='19')\n",
            "Row(view='23')\n",
            "Row(view='41')\n",
            "Row(view='55')\n",
            "Row(view='93')\n",
            "Row(view='95')\n",
            "Row(view='38')\n",
            "Row(view='40')\n",
            "Row(view='25')\n",
            "Row(view='44')\n",
            "Row(view='82')\n",
            "Row(view='53')\n",
            "Row(view='92')\n",
            "Row(view='86')\n",
            "Row(view='58')\n",
            "Row(view='81')\n",
            "Row(view='33')\n",
            "Row(view='48')\n",
            "Row(view='97')\n",
            "Row(view='67')\n",
            "Row(view='84')\n",
            "Row(view='79')\n",
            "Row(view='24')\n",
            "Row(view='9')\n",
            "Row(view='32')\n",
            "Row(view='88')\n",
            "Row(view='1')\n",
            "Row(view='20')\n",
            "Row(view='56')\n",
            "Row(view='36')\n",
            "Row(view='10')\n",
            "Row(view='37')\n",
            "Row(view='49')\n",
            "Row(view='63')\n",
            "Row(view='65')\n",
            "Row(view='4')\n",
            "Row(view='39')\n",
            "Row(view='62')\n",
            "Row(view='12')\n",
            "Row(view='83')\n",
            "Row(view='13')\n",
            "Row(view='21')\n",
            "Row(view='14')\n",
            "Row(view='66')\n",
            "Row(view='91')\n",
            "Row(view='94')\n",
            "Row(view='74')\n",
            "Row(view='72')\n",
            "Row(view='76')\n",
            "Row(view='2')\n",
            "Row(view='80')\n",
            "Row(view='50')\n",
            "Row(view='45')\n",
            "Row(view='57')\n",
            "\n",
            "Runtime with uncached data: 0.33 seconds\n"
          ]
        }
      ],
      "source": [
        "# 9. Using the cached data, run the query that filters out the view ratings with average price \n",
        "#  greater than or equal to $350,000. Determine the runtime and compare it to uncached runtime.\n",
        "\n",
        "import time\n",
        "\n",
        "# Query with cached data\n",
        "start_time_cached = time.time()\n",
        "result_cached = spark.table(\"home_sales\").filter(df['price'] >= 350000).select('view').distinct().collect()\n",
        "runtime_cached = time.time() - start_time_cached\n",
        "\n",
        "# Query with uncached data\n",
        "start_time_uncached = time.time()\n",
        "result_uncached = df.filter(df['price'] >= 350000).select('view').distinct().collect()\n",
        "runtime_uncached = time.time() - start_time_uncached\n",
        "\n",
        "# Print results and runtime comparison\n",
        "print(\"Results with cached data:\")\n",
        "for row in result_cached:\n",
        "    print(row)\n",
        "\n",
        "print(\"\\nRuntime with cached data: %.2f seconds\" % runtime_cached)\n",
        "\n",
        "print(\"\\nResults with uncached data:\")\n",
        "for row in result_uncached:\n",
        "    print(row)\n",
        "\n",
        "print(\"\\nRuntime with uncached data: %.2f seconds\" % runtime_uncached)\n",
        "\n"
      ]
    },
    {
      "cell_type": "code",
      "execution_count": 40,
      "metadata": {
        "id": "Qm12WN9isHBR"
      },
      "outputs": [],
      "source": [
        "# 10. Partition by the \"date_built\" field on the formatted parquet home sales data \n",
        "df.write.partitionBy(\"date_built\").parquet(\"./Resources/partitioned_home_sales.parquet\")\n"
      ]
    },
    {
      "cell_type": "code",
      "execution_count": 41,
      "metadata": {
        "colab": {
          "base_uri": "https://localhost:8080/",
          "height": 329
        },
        "id": "AZ7BgY61sRqY",
        "outputId": "d9983ed1-e8da-4f54-d861-b0ff98426caa"
      },
      "outputs": [
        {
          "ename": "AnalysisException",
          "evalue": "ignored",
          "output_type": "error",
          "traceback": [
            "\u001b[0;31m---------------------------------------------------------------------------\u001b[0m",
            "\u001b[0;31mAnalysisException\u001b[0m                         Traceback (most recent call last)",
            "\u001b[0;32m<ipython-input-41-e0c2d9d5ea54>\u001b[0m in \u001b[0;36m<cell line: 2>\u001b[0;34m()\u001b[0m\n\u001b[1;32m      1\u001b[0m \u001b[0;31m# 11. Read the parquet formatted data.\u001b[0m\u001b[0;34m\u001b[0m\u001b[0;34m\u001b[0m\u001b[0m\n\u001b[0;32m----> 2\u001b[0;31m \u001b[0mdf\u001b[0m \u001b[0;34m=\u001b[0m \u001b[0mspark\u001b[0m\u001b[0;34m.\u001b[0m\u001b[0mread\u001b[0m\u001b[0;34m.\u001b[0m\u001b[0mparquet\u001b[0m\u001b[0;34m(\u001b[0m\u001b[0;34m\"path/to/parquet_data_directory\"\u001b[0m\u001b[0;34m)\u001b[0m\u001b[0;34m\u001b[0m\u001b[0;34m\u001b[0m\u001b[0m\n\u001b[0m",
            "\u001b[0;32m/content/spark-3.3.2-bin-hadoop3/python/pyspark/sql/readwriter.py\u001b[0m in \u001b[0;36mparquet\u001b[0;34m(self, *paths, **options)\u001b[0m\n\u001b[1;32m    362\u001b[0m         )\n\u001b[1;32m    363\u001b[0m \u001b[0;34m\u001b[0m\u001b[0m\n\u001b[0;32m--> 364\u001b[0;31m         \u001b[0;32mreturn\u001b[0m \u001b[0mself\u001b[0m\u001b[0;34m.\u001b[0m\u001b[0m_df\u001b[0m\u001b[0;34m(\u001b[0m\u001b[0mself\u001b[0m\u001b[0;34m.\u001b[0m\u001b[0m_jreader\u001b[0m\u001b[0;34m.\u001b[0m\u001b[0mparquet\u001b[0m\u001b[0;34m(\u001b[0m\u001b[0m_to_seq\u001b[0m\u001b[0;34m(\u001b[0m\u001b[0mself\u001b[0m\u001b[0;34m.\u001b[0m\u001b[0m_spark\u001b[0m\u001b[0;34m.\u001b[0m\u001b[0m_sc\u001b[0m\u001b[0;34m,\u001b[0m \u001b[0mpaths\u001b[0m\u001b[0;34m)\u001b[0m\u001b[0;34m)\u001b[0m\u001b[0;34m)\u001b[0m\u001b[0;34m\u001b[0m\u001b[0;34m\u001b[0m\u001b[0m\n\u001b[0m\u001b[1;32m    365\u001b[0m \u001b[0;34m\u001b[0m\u001b[0m\n\u001b[1;32m    366\u001b[0m     def text(\n",
            "\u001b[0;32m/content/spark-3.3.2-bin-hadoop3/python/lib/py4j-0.10.9.5-src.zip/py4j/java_gateway.py\u001b[0m in \u001b[0;36m__call__\u001b[0;34m(self, *args)\u001b[0m\n\u001b[1;32m   1319\u001b[0m \u001b[0;34m\u001b[0m\u001b[0m\n\u001b[1;32m   1320\u001b[0m         \u001b[0manswer\u001b[0m \u001b[0;34m=\u001b[0m \u001b[0mself\u001b[0m\u001b[0;34m.\u001b[0m\u001b[0mgateway_client\u001b[0m\u001b[0;34m.\u001b[0m\u001b[0msend_command\u001b[0m\u001b[0;34m(\u001b[0m\u001b[0mcommand\u001b[0m\u001b[0;34m)\u001b[0m\u001b[0;34m\u001b[0m\u001b[0;34m\u001b[0m\u001b[0m\n\u001b[0;32m-> 1321\u001b[0;31m         return_value = get_return_value(\n\u001b[0m\u001b[1;32m   1322\u001b[0m             answer, self.gateway_client, self.target_id, self.name)\n\u001b[1;32m   1323\u001b[0m \u001b[0;34m\u001b[0m\u001b[0m\n",
            "\u001b[0;32m/content/spark-3.3.2-bin-hadoop3/python/pyspark/sql/utils.py\u001b[0m in \u001b[0;36mdeco\u001b[0;34m(*a, **kw)\u001b[0m\n\u001b[1;32m    194\u001b[0m                 \u001b[0;31m# Hide where the exception came from that shows a non-Pythonic\u001b[0m\u001b[0;34m\u001b[0m\u001b[0;34m\u001b[0m\u001b[0m\n\u001b[1;32m    195\u001b[0m                 \u001b[0;31m# JVM exception message.\u001b[0m\u001b[0;34m\u001b[0m\u001b[0;34m\u001b[0m\u001b[0m\n\u001b[0;32m--> 196\u001b[0;31m                 \u001b[0;32mraise\u001b[0m \u001b[0mconverted\u001b[0m \u001b[0;32mfrom\u001b[0m \u001b[0;32mNone\u001b[0m\u001b[0;34m\u001b[0m\u001b[0;34m\u001b[0m\u001b[0m\n\u001b[0m\u001b[1;32m    197\u001b[0m             \u001b[0;32melse\u001b[0m\u001b[0;34m:\u001b[0m\u001b[0;34m\u001b[0m\u001b[0;34m\u001b[0m\u001b[0m\n\u001b[1;32m    198\u001b[0m                 \u001b[0;32mraise\u001b[0m\u001b[0;34m\u001b[0m\u001b[0;34m\u001b[0m\u001b[0m\n",
            "\u001b[0;31mAnalysisException\u001b[0m: Path does not exist: file:/content/path/to/parquet_data_directory"
          ]
        }
      ],
      "source": [
        "# 11. Read the parquet formatted data.\n",
        "df = spark.read.parquet(\"path/to/parquet_data_directory\")\n"
      ]
    },
    {
      "cell_type": "code",
      "execution_count": null,
      "metadata": {
        "id": "J6MJkHfvVcvh"
      },
      "outputs": [],
      "source": [
        "# 12. Create a temporary table for the parquet data.\n"
      ]
    },
    {
      "cell_type": "code",
      "execution_count": null,
      "metadata": {
        "colab": {
          "base_uri": "https://localhost:8080/"
        },
        "id": "G_Vhb52rU1Sn",
        "outputId": "d6748ea6-d70a-41fd-dcb8-c214a85e949e"
      },
      "outputs": [
        {
          "name": "stdout",
          "output_type": "stream",
          "text": [
            "--- 7.104873657226562e-05 seconds ---\n"
          ]
        }
      ],
      "source": [
        "# 13. Run the query that filters out the view ratings with average price of greater than or equal to $350,000 \n",
        "# with the parquet DataFrame. Round your average to two decimal places. \n",
        "# Determine the runtime and compare it to the cached version.\n",
        "\n",
        "start_time = time.time()\n",
        "\n",
        "\n",
        "\n",
        "print(\"--- %s seconds ---\" % (time.time() - start_time))"
      ]
    },
    {
      "cell_type": "code",
      "execution_count": null,
      "metadata": {
        "id": "hjjYzQGjtbq8"
      },
      "outputs": [],
      "source": [
        "# 14. Uncache the home_sales temporary table.\n"
      ]
    },
    {
      "cell_type": "code",
      "execution_count": null,
      "metadata": {
        "id": "Sy9NBvO7tlmm"
      },
      "outputs": [],
      "source": [
        "# 15. Check if the home_sales is no longer cached\n",
        "\n"
      ]
    },
    {
      "cell_type": "code",
      "execution_count": null,
      "metadata": {
        "id": "Si-BNruRUGK3"
      },
      "outputs": [],
      "source": []
    }
  ],
  "metadata": {
    "colab": {
      "provenance": []
    },
    "gpuClass": "standard",
    "kernelspec": {
      "display_name": "Python 3 (ipykernel)",
      "language": "python",
      "name": "python3"
    },
    "language_info": {
      "codemirror_mode": {
        "name": "ipython",
        "version": 3
      },
      "file_extension": ".py",
      "mimetype": "text/x-python",
      "name": "python",
      "nbconvert_exporter": "python",
      "pygments_lexer": "ipython3",
      "version": "3.10.4"
    },
    "nteract": {
      "version": "0.28.0"
    }
  },
  "nbformat": 4,
  "nbformat_minor": 0
}
